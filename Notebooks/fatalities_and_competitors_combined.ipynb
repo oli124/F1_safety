{
 "cells": [
  {
   "cell_type": "code",
   "execution_count": 1,
   "metadata": {},
   "outputs": [],
   "source": [
    "#Dependencies\n",
    "import pandas as pd\n",
    "import numpy as np\n",
    "import json\n",
    "import matplotlib.pyplot as plt\n",
    "import requests\n",
    "from bs4 import BeautifulSoup\n",
    "from matplotlib.dates import MonthLocator, DateFormatter, YearLocator, AutoDateLocator, YEARLY\n",
    "from matplotlib.ticker import LinearLocator"
   ]
  },
  {
   "cell_type": "code",
   "execution_count": 2,
   "metadata": {},
   "outputs": [
    {
     "ename": "FileNotFoundError",
     "evalue": "[Errno 2] File Resources/results.csv does not exist: 'Resources/results.csv'",
     "output_type": "error",
     "traceback": [
      "\u001b[0;31m---------------------------------------------------------------------------\u001b[0m",
      "\u001b[0;31mFileNotFoundError\u001b[0m                         Traceback (most recent call last)",
      "\u001b[0;32m/var/folders/85/n2zn0s250fq220r9kg_lckk80000gn/T/ipykernel_20495/3790425690.py\u001b[0m in \u001b[0;36m<module>\u001b[0;34m\u001b[0m\n\u001b[1;32m      1\u001b[0m \u001b[0;31m#import csv\u001b[0m\u001b[0;34m\u001b[0m\u001b[0;34m\u001b[0m\u001b[0;34m\u001b[0m\u001b[0m\n\u001b[0;32m----> 2\u001b[0;31m \u001b[0mog_df\u001b[0m \u001b[0;34m=\u001b[0m \u001b[0mpd\u001b[0m\u001b[0;34m.\u001b[0m\u001b[0mread_csv\u001b[0m\u001b[0;34m(\u001b[0m\u001b[0;34m\"Resources/results.csv\"\u001b[0m\u001b[0;34m)\u001b[0m\u001b[0;34m\u001b[0m\u001b[0;34m\u001b[0m\u001b[0m\n\u001b[0m\u001b[1;32m      3\u001b[0m \u001b[0mog_df\u001b[0m\u001b[0;34m.\u001b[0m\u001b[0mhead\u001b[0m\u001b[0;34m(\u001b[0m\u001b[0;34m)\u001b[0m\u001b[0;34m\u001b[0m\u001b[0;34m\u001b[0m\u001b[0m\n",
      "\u001b[0;32m~/opt/anaconda3/envs/PythonData/lib/python3.7/site-packages/pandas/io/parsers.py\u001b[0m in \u001b[0;36mparser_f\u001b[0;34m(filepath_or_buffer, sep, delimiter, header, names, index_col, usecols, squeeze, prefix, mangle_dupe_cols, dtype, engine, converters, true_values, false_values, skipinitialspace, skiprows, skipfooter, nrows, na_values, keep_default_na, na_filter, verbose, skip_blank_lines, parse_dates, infer_datetime_format, keep_date_col, date_parser, dayfirst, cache_dates, iterator, chunksize, compression, thousands, decimal, lineterminator, quotechar, quoting, doublequote, escapechar, comment, encoding, dialect, error_bad_lines, warn_bad_lines, delim_whitespace, low_memory, memory_map, float_precision)\u001b[0m\n\u001b[1;32m    674\u001b[0m         )\n\u001b[1;32m    675\u001b[0m \u001b[0;34m\u001b[0m\u001b[0m\n\u001b[0;32m--> 676\u001b[0;31m         \u001b[0;32mreturn\u001b[0m \u001b[0m_read\u001b[0m\u001b[0;34m(\u001b[0m\u001b[0mfilepath_or_buffer\u001b[0m\u001b[0;34m,\u001b[0m \u001b[0mkwds\u001b[0m\u001b[0;34m)\u001b[0m\u001b[0;34m\u001b[0m\u001b[0;34m\u001b[0m\u001b[0m\n\u001b[0m\u001b[1;32m    677\u001b[0m \u001b[0;34m\u001b[0m\u001b[0m\n\u001b[1;32m    678\u001b[0m     \u001b[0mparser_f\u001b[0m\u001b[0;34m.\u001b[0m\u001b[0m__name__\u001b[0m \u001b[0;34m=\u001b[0m \u001b[0mname\u001b[0m\u001b[0;34m\u001b[0m\u001b[0;34m\u001b[0m\u001b[0m\n",
      "\u001b[0;32m~/opt/anaconda3/envs/PythonData/lib/python3.7/site-packages/pandas/io/parsers.py\u001b[0m in \u001b[0;36m_read\u001b[0;34m(filepath_or_buffer, kwds)\u001b[0m\n\u001b[1;32m    446\u001b[0m \u001b[0;34m\u001b[0m\u001b[0m\n\u001b[1;32m    447\u001b[0m     \u001b[0;31m# Create the parser.\u001b[0m\u001b[0;34m\u001b[0m\u001b[0;34m\u001b[0m\u001b[0;34m\u001b[0m\u001b[0m\n\u001b[0;32m--> 448\u001b[0;31m     \u001b[0mparser\u001b[0m \u001b[0;34m=\u001b[0m \u001b[0mTextFileReader\u001b[0m\u001b[0;34m(\u001b[0m\u001b[0mfp_or_buf\u001b[0m\u001b[0;34m,\u001b[0m \u001b[0;34m**\u001b[0m\u001b[0mkwds\u001b[0m\u001b[0;34m)\u001b[0m\u001b[0;34m\u001b[0m\u001b[0;34m\u001b[0m\u001b[0m\n\u001b[0m\u001b[1;32m    449\u001b[0m \u001b[0;34m\u001b[0m\u001b[0m\n\u001b[1;32m    450\u001b[0m     \u001b[0;32mif\u001b[0m \u001b[0mchunksize\u001b[0m \u001b[0;32mor\u001b[0m \u001b[0miterator\u001b[0m\u001b[0;34m:\u001b[0m\u001b[0;34m\u001b[0m\u001b[0;34m\u001b[0m\u001b[0m\n",
      "\u001b[0;32m~/opt/anaconda3/envs/PythonData/lib/python3.7/site-packages/pandas/io/parsers.py\u001b[0m in \u001b[0;36m__init__\u001b[0;34m(self, f, engine, **kwds)\u001b[0m\n\u001b[1;32m    878\u001b[0m             \u001b[0mself\u001b[0m\u001b[0;34m.\u001b[0m\u001b[0moptions\u001b[0m\u001b[0;34m[\u001b[0m\u001b[0;34m\"has_index_names\"\u001b[0m\u001b[0;34m]\u001b[0m \u001b[0;34m=\u001b[0m \u001b[0mkwds\u001b[0m\u001b[0;34m[\u001b[0m\u001b[0;34m\"has_index_names\"\u001b[0m\u001b[0;34m]\u001b[0m\u001b[0;34m\u001b[0m\u001b[0;34m\u001b[0m\u001b[0m\n\u001b[1;32m    879\u001b[0m \u001b[0;34m\u001b[0m\u001b[0m\n\u001b[0;32m--> 880\u001b[0;31m         \u001b[0mself\u001b[0m\u001b[0;34m.\u001b[0m\u001b[0m_make_engine\u001b[0m\u001b[0;34m(\u001b[0m\u001b[0mself\u001b[0m\u001b[0;34m.\u001b[0m\u001b[0mengine\u001b[0m\u001b[0;34m)\u001b[0m\u001b[0;34m\u001b[0m\u001b[0;34m\u001b[0m\u001b[0m\n\u001b[0m\u001b[1;32m    881\u001b[0m \u001b[0;34m\u001b[0m\u001b[0m\n\u001b[1;32m    882\u001b[0m     \u001b[0;32mdef\u001b[0m \u001b[0mclose\u001b[0m\u001b[0;34m(\u001b[0m\u001b[0mself\u001b[0m\u001b[0;34m)\u001b[0m\u001b[0;34m:\u001b[0m\u001b[0;34m\u001b[0m\u001b[0;34m\u001b[0m\u001b[0m\n",
      "\u001b[0;32m~/opt/anaconda3/envs/PythonData/lib/python3.7/site-packages/pandas/io/parsers.py\u001b[0m in \u001b[0;36m_make_engine\u001b[0;34m(self, engine)\u001b[0m\n\u001b[1;32m   1112\u001b[0m     \u001b[0;32mdef\u001b[0m \u001b[0m_make_engine\u001b[0m\u001b[0;34m(\u001b[0m\u001b[0mself\u001b[0m\u001b[0;34m,\u001b[0m \u001b[0mengine\u001b[0m\u001b[0;34m=\u001b[0m\u001b[0;34m\"c\"\u001b[0m\u001b[0;34m)\u001b[0m\u001b[0;34m:\u001b[0m\u001b[0;34m\u001b[0m\u001b[0;34m\u001b[0m\u001b[0m\n\u001b[1;32m   1113\u001b[0m         \u001b[0;32mif\u001b[0m \u001b[0mengine\u001b[0m \u001b[0;34m==\u001b[0m \u001b[0;34m\"c\"\u001b[0m\u001b[0;34m:\u001b[0m\u001b[0;34m\u001b[0m\u001b[0;34m\u001b[0m\u001b[0m\n\u001b[0;32m-> 1114\u001b[0;31m             \u001b[0mself\u001b[0m\u001b[0;34m.\u001b[0m\u001b[0m_engine\u001b[0m \u001b[0;34m=\u001b[0m \u001b[0mCParserWrapper\u001b[0m\u001b[0;34m(\u001b[0m\u001b[0mself\u001b[0m\u001b[0;34m.\u001b[0m\u001b[0mf\u001b[0m\u001b[0;34m,\u001b[0m \u001b[0;34m**\u001b[0m\u001b[0mself\u001b[0m\u001b[0;34m.\u001b[0m\u001b[0moptions\u001b[0m\u001b[0;34m)\u001b[0m\u001b[0;34m\u001b[0m\u001b[0;34m\u001b[0m\u001b[0m\n\u001b[0m\u001b[1;32m   1115\u001b[0m         \u001b[0;32melse\u001b[0m\u001b[0;34m:\u001b[0m\u001b[0;34m\u001b[0m\u001b[0;34m\u001b[0m\u001b[0m\n\u001b[1;32m   1116\u001b[0m             \u001b[0;32mif\u001b[0m \u001b[0mengine\u001b[0m \u001b[0;34m==\u001b[0m \u001b[0;34m\"python\"\u001b[0m\u001b[0;34m:\u001b[0m\u001b[0;34m\u001b[0m\u001b[0;34m\u001b[0m\u001b[0m\n",
      "\u001b[0;32m~/opt/anaconda3/envs/PythonData/lib/python3.7/site-packages/pandas/io/parsers.py\u001b[0m in \u001b[0;36m__init__\u001b[0;34m(self, src, **kwds)\u001b[0m\n\u001b[1;32m   1889\u001b[0m         \u001b[0mkwds\u001b[0m\u001b[0;34m[\u001b[0m\u001b[0;34m\"usecols\"\u001b[0m\u001b[0;34m]\u001b[0m \u001b[0;34m=\u001b[0m \u001b[0mself\u001b[0m\u001b[0;34m.\u001b[0m\u001b[0musecols\u001b[0m\u001b[0;34m\u001b[0m\u001b[0;34m\u001b[0m\u001b[0m\n\u001b[1;32m   1890\u001b[0m \u001b[0;34m\u001b[0m\u001b[0m\n\u001b[0;32m-> 1891\u001b[0;31m         \u001b[0mself\u001b[0m\u001b[0;34m.\u001b[0m\u001b[0m_reader\u001b[0m \u001b[0;34m=\u001b[0m \u001b[0mparsers\u001b[0m\u001b[0;34m.\u001b[0m\u001b[0mTextReader\u001b[0m\u001b[0;34m(\u001b[0m\u001b[0msrc\u001b[0m\u001b[0;34m,\u001b[0m \u001b[0;34m**\u001b[0m\u001b[0mkwds\u001b[0m\u001b[0;34m)\u001b[0m\u001b[0;34m\u001b[0m\u001b[0;34m\u001b[0m\u001b[0m\n\u001b[0m\u001b[1;32m   1892\u001b[0m         \u001b[0mself\u001b[0m\u001b[0;34m.\u001b[0m\u001b[0munnamed_cols\u001b[0m \u001b[0;34m=\u001b[0m \u001b[0mself\u001b[0m\u001b[0;34m.\u001b[0m\u001b[0m_reader\u001b[0m\u001b[0;34m.\u001b[0m\u001b[0munnamed_cols\u001b[0m\u001b[0;34m\u001b[0m\u001b[0;34m\u001b[0m\u001b[0m\n\u001b[1;32m   1893\u001b[0m \u001b[0;34m\u001b[0m\u001b[0m\n",
      "\u001b[0;32mpandas/_libs/parsers.pyx\u001b[0m in \u001b[0;36mpandas._libs.parsers.TextReader.__cinit__\u001b[0;34m()\u001b[0m\n",
      "\u001b[0;32mpandas/_libs/parsers.pyx\u001b[0m in \u001b[0;36mpandas._libs.parsers.TextReader._setup_parser_source\u001b[0;34m()\u001b[0m\n",
      "\u001b[0;31mFileNotFoundError\u001b[0m: [Errno 2] File Resources/results.csv does not exist: 'Resources/results.csv'"
     ]
    }
   ],
   "source": [
    "#import csv\n",
    "og_df = pd.read_csv(\"Resources/results.csv\")\n",
    "og_df.head()"
   ]
  },
  {
   "cell_type": "code",
   "execution_count": 3,
   "metadata": {},
   "outputs": [
    {
     "ename": "NameError",
     "evalue": "name 'og_df' is not defined",
     "output_type": "error",
     "traceback": [
      "\u001b[0;31m---------------------------------------------------------------------------\u001b[0m",
      "\u001b[0;31mNameError\u001b[0m                                 Traceback (most recent call last)",
      "\u001b[0;32m/var/folders/85/n2zn0s250fq220r9kg_lckk80000gn/T/ipykernel_20495/3297257265.py\u001b[0m in \u001b[0;36m<module>\u001b[0;34m\u001b[0m\n\u001b[1;32m      1\u001b[0m \u001b[0;31m#names of all columns\u001b[0m\u001b[0;34m\u001b[0m\u001b[0;34m\u001b[0m\u001b[0;34m\u001b[0m\u001b[0m\n\u001b[0;32m----> 2\u001b[0;31m \u001b[0mprint\u001b[0m\u001b[0;34m(\u001b[0m\u001b[0mog_df\u001b[0m\u001b[0;34m.\u001b[0m\u001b[0mcolumns\u001b[0m\u001b[0;34m)\u001b[0m\u001b[0;34m\u001b[0m\u001b[0;34m\u001b[0m\u001b[0m\n\u001b[0m",
      "\u001b[0;31mNameError\u001b[0m: name 'og_df' is not defined"
     ]
    }
   ],
   "source": [
    "#names of all columns\n",
    "print(og_df.columns)"
   ]
  },
  {
   "cell_type": "code",
   "execution_count": 4,
   "metadata": {},
   "outputs": [
    {
     "ename": "NameError",
     "evalue": "name 'og_df' is not defined",
     "output_type": "error",
     "traceback": [
      "\u001b[0;31m---------------------------------------------------------------------------\u001b[0m",
      "\u001b[0;31mNameError\u001b[0m                                 Traceback (most recent call last)",
      "\u001b[0;32m/var/folders/85/n2zn0s250fq220r9kg_lckk80000gn/T/ipykernel_20495/3395079990.py\u001b[0m in \u001b[0;36m<module>\u001b[0;34m\u001b[0m\n\u001b[1;32m      1\u001b[0m \u001b[0;31m#new dataframe without other columns from csv\u001b[0m\u001b[0;34m\u001b[0m\u001b[0;34m\u001b[0m\u001b[0;34m\u001b[0m\u001b[0m\n\u001b[1;32m      2\u001b[0m \u001b[0;34m\u001b[0m\u001b[0m\n\u001b[0;32m----> 3\u001b[0;31m \u001b[0mfatal_df\u001b[0m \u001b[0;34m=\u001b[0m \u001b[0mog_df\u001b[0m\u001b[0;34m.\u001b[0m\u001b[0mdrop\u001b[0m\u001b[0;34m(\u001b[0m\u001b[0mcolumns\u001b[0m \u001b[0;34m=\u001b[0m \u001b[0;34m[\u001b[0m\u001b[0;34m'grid'\u001b[0m\u001b[0;34m,\u001b[0m \u001b[0;34m'fastestLapSpeed'\u001b[0m\u001b[0;34m,\u001b[0m \u001b[0;34m'fastestLapTime'\u001b[0m\u001b[0;34m,\u001b[0m \u001b[0;34m'fastestLap'\u001b[0m\u001b[0;34m,\u001b[0m \u001b[0;34m'milliseconds'\u001b[0m\u001b[0;34m,\u001b[0m \u001b[0;34m'time'\u001b[0m\u001b[0;34m,\u001b[0m \u001b[0;34m'laps'\u001b[0m\u001b[0;34m,\u001b[0m \u001b[0;34m'points'\u001b[0m\u001b[0;34m,\u001b[0m \u001b[0;34m'positionOrder'\u001b[0m\u001b[0;34m,\u001b[0m \u001b[0;34m'positionText'\u001b[0m\u001b[0;34m]\u001b[0m\u001b[0;34m)\u001b[0m\u001b[0;34m\u001b[0m\u001b[0;34m\u001b[0m\u001b[0m\n\u001b[0m\u001b[1;32m      4\u001b[0m \u001b[0mfatal_df\u001b[0m\u001b[0;34m.\u001b[0m\u001b[0mhead\u001b[0m\u001b[0;34m(\u001b[0m\u001b[0;34m)\u001b[0m\u001b[0;34m\u001b[0m\u001b[0;34m\u001b[0m\u001b[0m\n",
      "\u001b[0;31mNameError\u001b[0m: name 'og_df' is not defined"
     ]
    }
   ],
   "source": [
    "#new dataframe without other columns from csv\n",
    "\n",
    "fatal_df = og_df.drop(columns = ['grid', 'fastestLapSpeed', 'fastestLapTime', 'fastestLap', 'milliseconds', 'time', 'laps', 'points', 'positionOrder', 'positionText'])\n",
    "fatal_df.head()"
   ]
  },
  {
   "cell_type": "code",
   "execution_count": null,
   "metadata": {},
   "outputs": [
    {
     "data": {
      "text/html": [
       "<div>\n",
       "<style scoped>\n",
       "    .dataframe tbody tr th:only-of-type {\n",
       "        vertical-align: middle;\n",
       "    }\n",
       "\n",
       "    .dataframe tbody tr th {\n",
       "        vertical-align: top;\n",
       "    }\n",
       "\n",
       "    .dataframe thead th {\n",
       "        text-align: right;\n",
       "    }\n",
       "</style>\n",
       "<table border=\"1\" class=\"dataframe\">\n",
       "  <thead>\n",
       "    <tr style=\"text-align: right;\">\n",
       "      <th></th>\n",
       "      <th>resultId</th>\n",
       "      <th>raceId</th>\n",
       "      <th>driverId</th>\n",
       "      <th>constructorId</th>\n",
       "      <th>statusId</th>\n",
       "    </tr>\n",
       "  </thead>\n",
       "  <tbody>\n",
       "    <tr>\n",
       "      <th>count</th>\n",
       "      <td>25840.000000</td>\n",
       "      <td>25840.000000</td>\n",
       "      <td>25840.000000</td>\n",
       "      <td>25840.000000</td>\n",
       "      <td>25840.000000</td>\n",
       "    </tr>\n",
       "    <tr>\n",
       "      <th>mean</th>\n",
       "      <td>12921.334327</td>\n",
       "      <td>531.425813</td>\n",
       "      <td>261.732082</td>\n",
       "      <td>48.628328</td>\n",
       "      <td>17.568576</td>\n",
       "    </tr>\n",
       "    <tr>\n",
       "      <th>std</th>\n",
       "      <td>7460.682031</td>\n",
       "      <td>299.440908</td>\n",
       "      <td>268.623016</td>\n",
       "      <td>59.732131</td>\n",
       "      <td>26.155520</td>\n",
       "    </tr>\n",
       "    <tr>\n",
       "      <th>min</th>\n",
       "      <td>1.000000</td>\n",
       "      <td>1.000000</td>\n",
       "      <td>1.000000</td>\n",
       "      <td>1.000000</td>\n",
       "      <td>1.000000</td>\n",
       "    </tr>\n",
       "    <tr>\n",
       "      <th>25%</th>\n",
       "      <td>6460.750000</td>\n",
       "      <td>293.000000</td>\n",
       "      <td>56.000000</td>\n",
       "      <td>6.000000</td>\n",
       "      <td>1.000000</td>\n",
       "    </tr>\n",
       "    <tr>\n",
       "      <th>50%</th>\n",
       "      <td>12920.500000</td>\n",
       "      <td>514.000000</td>\n",
       "      <td>163.000000</td>\n",
       "      <td>25.000000</td>\n",
       "      <td>11.000000</td>\n",
       "    </tr>\n",
       "    <tr>\n",
       "      <th>75%</th>\n",
       "      <td>19380.250000</td>\n",
       "      <td>784.000000</td>\n",
       "      <td>360.000000</td>\n",
       "      <td>58.000000</td>\n",
       "      <td>14.000000</td>\n",
       "    </tr>\n",
       "    <tr>\n",
       "      <th>max</th>\n",
       "      <td>25845.000000</td>\n",
       "      <td>1096.000000</td>\n",
       "      <td>856.000000</td>\n",
       "      <td>214.000000</td>\n",
       "      <td>141.000000</td>\n",
       "    </tr>\n",
       "  </tbody>\n",
       "</table>\n",
       "</div>"
      ],
      "text/plain": [
       "           resultId        raceId      driverId  constructorId      statusId\n",
       "count  25840.000000  25840.000000  25840.000000   25840.000000  25840.000000\n",
       "mean   12921.334327    531.425813    261.732082      48.628328     17.568576\n",
       "std     7460.682031    299.440908    268.623016      59.732131     26.155520\n",
       "min        1.000000      1.000000      1.000000       1.000000      1.000000\n",
       "25%     6460.750000    293.000000     56.000000       6.000000      1.000000\n",
       "50%    12920.500000    514.000000    163.000000      25.000000     11.000000\n",
       "75%    19380.250000    784.000000    360.000000      58.000000     14.000000\n",
       "max    25845.000000   1096.000000    856.000000     214.000000    141.000000"
      ]
     },
     "execution_count": 534,
     "metadata": {},
     "output_type": "execute_result"
    }
   ],
   "source": [
    "fatal_df.describe()"
   ]
  },
  {
   "cell_type": "code",
   "execution_count": null,
   "metadata": {},
   "outputs": [
    {
     "data": {
      "text/plain": [
       "resultId          int64\n",
       "raceId            int64\n",
       "driverId          int64\n",
       "constructorId     int64\n",
       "number           object\n",
       "position         object\n",
       "rank             object\n",
       "statusId          int64\n",
       "dtype: object"
      ]
     },
     "execution_count": 535,
     "metadata": {},
     "output_type": "execute_result"
    }
   ],
   "source": [
    "#np.arange(8) == np.arange(8).astype(str)\n",
    "fatal_df.dtypes"
   ]
  },
  {
   "cell_type": "code",
   "execution_count": null,
   "metadata": {},
   "outputs": [
    {
     "name": "stdout",
     "output_type": "stream",
     "text": [
      "3\n"
     ]
    }
   ],
   "source": [
    "fatal_2_df = 0\n",
    "for i in fatal_df[\"statusId\"]:\n",
    "    if i == 104:\n",
    "        fatal_2_df = fatal_2_df+1\n",
    "\n",
    "print(fatal_2_df)"
   ]
  },
  {
   "cell_type": "code",
   "execution_count": null,
   "metadata": {},
   "outputs": [
    {
     "data": {
      "text/plain": [
       "<matplotlib.axes._subplots.AxesSubplot at 0x7fddf8f58710>"
      ]
     },
     "execution_count": 559,
     "metadata": {},
     "output_type": "execute_result"
    },
    {
     "data": {
      "image/png": "[encoded data removed]",
      "text/plain": [
       "<Figure size 432x288 with 1 Axes>"
      ]
     },
     "metadata": {
      "needs_background": "light"
     },
     "output_type": "display_data"
    }
   ],
   "source": [
    "#API for wikipedia data\n",
    "url = \"https://en.wikipedia.org/wiki/List_of_Formula_One_fatalities\"\n",
    "\n",
    "page = requests.get(url)\n",
    "soup  = BeautifulSoup(page.content, 'html.parser')\n",
    "table = soup.find('table', class_='wikitable plainrowheaders sortable')\n",
    "\n",
    "fatalitiesdf = pd.read_html(str(table))\n",
    "fatalitiesdf = pd.concat(fatalitiesdf)\n",
    "df_new = fatalitiesdf.drop(fatalitiesdf[(fatalitiesdf['Session'] == 'Test') | (fatalitiesdf['Session'] == 'Practice') | (fatalitiesdf['Session'] == 'Qualifying') | (fatalitiesdf['Session'] == 'Run')].index)\n",
    "\n",
    "df_new['Year'] = pd.to_datetime(df_new['Date of accident']).dt.year\n",
    "group = df_new.groupby('Year')['Driver'].count()\n",
    "group.plot()"
   ]
  },
  {
   "cell_type": "code",
   "execution_count": null,
   "metadata": {},
   "outputs": [
    {
     "data": {
      "image/png": "[encoded data removed]",
      "text/plain": [
       "<Figure size 432x288 with 1 Axes>"
      ]
     },
     "metadata": {
      "needs_background": "light"
     },
     "output_type": "display_data"
    }
   ],
   "source": [
    "#plt.bar(group, height=5, width=0.8, y=['Date of accident'])\n",
    "\n",
    "group.plot.bar(x=\"Fatalaties\", y=\"Date of accident\", rot=70, color=\"firebrick\", title=\"Number of fatalities over the years\")\n",
    "\n",
    "plt.savefig('fatalatiesperyear.png')"
   ]
  },
  {
   "cell_type": "code",
   "execution_count": null,
   "metadata": {},
   "outputs": [
    {
     "name": "stdout",
     "output_type": "stream",
     "text": [
      "   Year  Deaths  Competitors\n",
      "0  1955       2           60\n"
     ]
    }
   ],
   "source": [
    "url = \"https://en.wikipedia.org/wiki/1955_Formula_One_season\"\n",
    "\n",
    "page = requests.get(url)\n",
    "soup  = BeautifulSoup(page.content, 'html.parser')\n",
    "table = soup.find_all('table')[1]\n",
    "\n",
    "driversdf = pd.read_html(str(table))\n",
    "driversdf = pd.concat(driversdf)\n",
    "\n",
    "temp_df = pd.DataFrame({'Year' : '1955','Deaths': df_new['Year'].value_counts()[1955],'Competitors' : [driversdf['Driver'].count()]})\n",
    "print(temp_df)"
   ]
  },
  {
   "cell_type": "code",
   "execution_count": null,
   "metadata": {},
   "outputs": [
    {
     "name": "stdout",
     "output_type": "stream",
     "text": [
      "   Year  Deaths  Competitors\n",
      "0  1955       2           60\n",
      "1  1958       4           80\n"
     ]
    }
   ],
   "source": [
    "url = \"https://en.wikipedia.org/wiki/1958_Formula_One_season\"\n",
    "\n",
    "page = requests.get(url)\n",
    "soup  = BeautifulSoup(page.content, 'html.parser')\n",
    "table = soup.find_all('table')[2]\n",
    "\n",
    "driversdf = pd.read_html(str(table))\n",
    "driversdf = pd.concat(driversdf)\n",
    "\n",
    "new_df = pd.DataFrame([{'Year' : '1958','Deaths': df_new['Year'].value_counts()[1958],'Competitors' : driversdf['Driver'].count()}])\n",
    "temp_df = pd.concat([temp_df, new_df], ignore_index=True)\n",
    "print(temp_df)"
   ]
  },
  {
   "cell_type": "code",
   "execution_count": null,
   "metadata": {},
   "outputs": [],
   "source": [
    "url = \"https://en.wikipedia.org/wiki/1960_Formula_One_season\"\n",
    "\n",
    "page = requests.get(url)\n",
    "soup  = BeautifulSoup(page.content, 'html.parser')\n",
    "table = soup.find_all('table')[0]\n",
    "\n",
    "driversdf = pd.read_html(str(table))\n",
    "driversdf = pd.concat(driversdf)\n",
    "\n",
    "new_df = pd.DataFrame([{'Year' : '1960','Deaths': df_new['Year'].value_counts()[1960],'Competitors' : driversdf['Driver'].count()}])\n",
    "temp_df = pd.concat([temp_df, new_df], ignore_index=True)"
   ]
  },
  {
   "cell_type": "code",
   "execution_count": null,
   "metadata": {},
   "outputs": [],
   "source": [
    "url = \"https://en.wikipedia.org/wiki/1961_Formula_One_season\"\n",
    "\n",
    "page = requests.get(url)\n",
    "soup  = BeautifulSoup(page.content, 'html.parser')\n",
    "table = soup.find_all('table')[0]\n",
    "\n",
    "driversdf = pd.read_html(str(table))\n",
    "driversdf = pd.concat(driversdf)\n",
    "\n",
    "new_df = pd.DataFrame([{'Year' : '1961','Deaths': df_new['Year'].value_counts()[1961],'Competitors' : driversdf['Driver'].count()}])\n",
    "temp_df = pd.concat([temp_df, new_df], ignore_index=True)"
   ]
  },
  {
   "cell_type": "code",
   "execution_count": null,
   "metadata": {},
   "outputs": [],
   "source": [
    "url = \"https://en.wikipedia.org/wiki/1966_Formula_One_season\"\n",
    "\n",
    "page = requests.get(url)\n",
    "soup  = BeautifulSoup(page.content, 'html.parser')\n",
    "table = soup.find_all('table')[1]\n",
    "\n",
    "driversdf = pd.read_html(str(table))\n",
    "driversdf = pd.concat(driversdf)\n",
    "\n",
    "new_df = pd.DataFrame([{'Year' : '1966','Deaths': df_new['Year'].value_counts()[1966],'Competitors' : driversdf['Driver'].count()}])\n",
    "temp_df = pd.concat([temp_df, new_df], ignore_index=True)"
   ]
  },
  {
   "cell_type": "code",
   "execution_count": null,
   "metadata": {},
   "outputs": [],
   "source": [
    "url = \"https://en.wikipedia.org/wiki/1967_Formula_One_season\"\n",
    "\n",
    "page = requests.get(url)\n",
    "soup  = BeautifulSoup(page.content, 'html.parser')\n",
    "table = soup.find_all('table')[1]\n",
    "\n",
    "driversdf = pd.read_html(str(table))\n",
    "driversdf = pd.concat(driversdf)\n",
    "\n",
    "new_df = pd.DataFrame([{'Year' : '1967','Deaths': df_new['Year'].value_counts()[1967],'Competitors' : driversdf['Driver'].count()}])\n",
    "temp_df = pd.concat([temp_df, new_df], ignore_index=True)"
   ]
  },
  {
   "cell_type": "code",
   "execution_count": null,
   "metadata": {},
   "outputs": [],
   "source": [
    "url = \"https://en.wikipedia.org/wiki/1968_Formula_One_season\"\n",
    "\n",
    "page = requests.get(url)\n",
    "soup  = BeautifulSoup(page.content, 'html.parser')\n",
    "table = soup.find_all('table')[0]\n",
    "\n",
    "driversdf = pd.read_html(str(table))\n",
    "driversdf = pd.concat(driversdf)\n",
    "\n",
    "new_df = pd.DataFrame([{'Year' : '1968','Deaths': df_new['Year'].value_counts()[1968],'Competitors' : driversdf['Driver'].count()}])\n",
    "temp_df = pd.concat([temp_df, new_df], ignore_index=True)"
   ]
  },
  {
   "cell_type": "code",
   "execution_count": null,
   "metadata": {},
   "outputs": [],
   "source": [
    "url = \"https://en.wikipedia.org/wiki/1970_Formula_One_season\"\n",
    "\n",
    "page = requests.get(url)\n",
    "soup  = BeautifulSoup(page.content, 'html.parser')\n",
    "table = soup.find_all('table')[1]\n",
    "\n",
    "driversdf = pd.read_html(str(table))\n",
    "driversdf = pd.concat(driversdf)\n",
    "\n",
    "new_df = pd.DataFrame([{'Year' : '1970','Deaths': df_new['Year'].value_counts()[1970],'Competitors' : driversdf['Driver'].count()}])\n",
    "temp_df = pd.concat([temp_df, new_df], ignore_index=True)"
   ]
  },
  {
   "cell_type": "code",
   "execution_count": null,
   "metadata": {},
   "outputs": [],
   "source": [
    "url = \"https://en.wikipedia.org/wiki/1971_Formula_One_season\"\n",
    "\n",
    "page = requests.get(url)\n",
    "soup  = BeautifulSoup(page.content, 'html.parser')\n",
    "table = soup.find_all('table')[1]\n",
    "\n",
    "driversdf = pd.read_html(str(table))\n",
    "driversdf = pd.concat(driversdf)\n",
    "\n",
    "new_df = pd.DataFrame([{'Year' : '1971','Deaths': df_new['Year'].value_counts()[1971],'Competitors' : driversdf['Driver'].count()}])\n",
    "temp_df = pd.concat([temp_df, new_df], ignore_index=True)"
   ]
  },
  {
   "cell_type": "code",
   "execution_count": null,
   "metadata": {},
   "outputs": [],
   "source": [
    "url = \"https://en.wikipedia.org/wiki/1973_Formula_One_season\"\n",
    "\n",
    "page = requests.get(url)\n",
    "soup  = BeautifulSoup(page.content, 'html.parser')\n",
    "table = soup.find_all('table')[0]\n",
    "\n",
    "driversdf = pd.read_html(str(table))\n",
    "driversdf = pd.concat(driversdf)\n",
    "\n",
    "new_df = pd.DataFrame([{'Year' : '1973','Deaths': df_new['Year'].value_counts()[1973],'Competitors' : driversdf['Driver'].count()}])\n",
    "temp_df = pd.concat([temp_df, new_df], ignore_index=True)"
   ]
  },
  {
   "cell_type": "code",
   "execution_count": null,
   "metadata": {},
   "outputs": [],
   "source": [
    "url = \"https://en.wikipedia.org/wiki/1974_Formula_One_season\"\n",
    "\n",
    "page = requests.get(url)\n",
    "soup  = BeautifulSoup(page.content, 'html.parser')\n",
    "table = soup.find_all('table')[0]\n",
    "\n",
    "driversdf = pd.read_html(str(table))\n",
    "driversdf = pd.concat(driversdf)\n",
    "\n",
    "new_df = pd.DataFrame([{'Year' : '1974','Deaths': df_new['Year'].value_counts()[1974],'Competitors' : driversdf['Driver'].count()}])\n",
    "temp_df = pd.concat([temp_df, new_df], ignore_index=True)"
   ]
  },
  {
   "cell_type": "code",
   "execution_count": null,
   "metadata": {},
   "outputs": [],
   "source": [
    "url = \"https://en.wikipedia.org/wiki/1977_Formula_One_season\"\n",
    "\n",
    "page = requests.get(url)\n",
    "soup  = BeautifulSoup(page.content, 'html.parser')\n",
    "table = soup.find_all('table')[1]\n",
    "\n",
    "driversdf = pd.read_html(str(table))\n",
    "driversdf = pd.concat(driversdf)\n",
    "\n",
    "new_df = pd.DataFrame([{'Year' : '1977','Deaths': df_new['Year'].value_counts()[1977],'Competitors' : driversdf['Driver'].count()}])\n",
    "temp_df = pd.concat([temp_df, new_df], ignore_index=True)"
   ]
  },
  {
   "cell_type": "code",
   "execution_count": null,
   "metadata": {},
   "outputs": [],
   "source": [
    "url = \"https://en.wikipedia.org/wiki/1978_Formula_One_season\"\n",
    "\n",
    "page = requests.get(url)\n",
    "soup  = BeautifulSoup(page.content, 'html.parser')\n",
    "table = soup.find_all('table')[0]\n",
    "\n",
    "driversdf = pd.read_html(str(table))\n",
    "driversdf = pd.concat(driversdf)\n",
    "\n",
    "new_df = pd.DataFrame([{'Year' : '1978','Deaths': df_new['Year'].value_counts()[1978],'Competitors' : driversdf['Driver'].count()}])\n",
    "temp_df = pd.concat([temp_df, new_df], ignore_index=True)"
   ]
  },
  {
   "cell_type": "code",
   "execution_count": null,
   "metadata": {},
   "outputs": [],
   "source": [
    "url = \"https://en.wikipedia.org/wiki/1982_Formula_One_World_Championship\"\n",
    "\n",
    "page = requests.get(url)\n",
    "soup  = BeautifulSoup(page.content, 'html.parser')\n",
    "table = soup.find_all('table')[1]\n",
    "\n",
    "driversdf = pd.read_html(str(table))\n",
    "driversdf = pd.concat(driversdf)\n",
    "\n",
    "new_df = pd.DataFrame([{'Year' : '1982','Deaths': df_new['Year'].value_counts()[1982],'Competitors' : driversdf['Driver'].count()}])\n",
    "temp_df = pd.concat([temp_df, new_df], ignore_index=True)\n",
    "\n"
   ]
  },
  {
   "cell_type": "code",
   "execution_count": null,
   "metadata": {},
   "outputs": [],
   "source": [
    "\n",
    "url = \"https://en.wikipedia.org/wiki/1994_Formula_One_World_Championship\"\n",
    "\n",
    "page = requests.get(url)\n",
    "soup  = BeautifulSoup(page.content, 'html.parser')\n",
    "table = soup.find_all('table')[1]\n",
    "\n",
    "driversdf = pd.read_html(str(table))\n",
    "driversdf = pd.concat(driversdf)\n",
    "\n",
    "new_df = pd.DataFrame([{'Year' : '1982','Deaths': df_new['Year'].value_counts()[1982],'Competitors' : driversdf['Driver'].count()}])\n",
    "temp_df = pd.concat([temp_df, new_df], ignore_index=True)\n"
   ]
  },
  {
   "cell_type": "code",
   "execution_count": null,
   "metadata": {},
   "outputs": [],
   "source": [
    "url = \"https://en.wikipedia.org/wiki/2002_Formula_One_season\"\n",
    "\n",
    "page = requests.get(url)\n",
    "soup  = BeautifulSoup(page.content, 'html.parser')\n",
    "table = soup.find_all('table')[0]\n",
    "\n",
    "driversdf = pd.read_html(str(table))\n",
    "driversdf = pd.concat(driversdf)\n",
    "\n",
    "new_df = pd.DataFrame([{'Year' : '2002','Deaths': df_new['Year'].value_counts()[2002],'Competitors' : driversdf['Driver'].count()}])\n",
    "temp_df = pd.concat([temp_df, new_df], ignore_index=True)"
   ]
  },
  {
   "cell_type": "code",
   "execution_count": null,
   "metadata": {},
   "outputs": [
    {
     "name": "stdout",
     "output_type": "stream",
     "text": [
      "        No.                   Rounds             Race drivers\n",
      "0   9461045  1–16191–11, 13–16, 1912       Marcus Ericsson[7]\n",
      "1   9461045  1–16191–11, 13–16, 1912          Will Stevens[8]\n",
      "2   9461045  1–16191–11, 13–16, 1912    Kamui Kobayashi[7][9]\n",
      "3   9461045  1–16191–11, 13–16, 1912   André Lotterer[10][11]\n",
      "4       714                   AllAll       Kimi Räikkönen[14]\n",
      "5       714                   AllAll      Fernando Alonso[15]\n",
      "6      1127                   AllAll         Sergio Pérez[19]\n",
      "7      1127                   AllAll      Nico Hülkenberg[20]\n",
      "8       813                   AllAll      Romain Grosjean[23]\n",
      "9       813                   AllAll     Pastor Maldonado[23]\n",
      "10  4421742       1–1612[a]1–1516[b]          Max Chilton[26]\n",
      "11  4421742       1–1612[a]1–1516[b]      Alexander Rossi[27]\n",
      "12  4421742       1–1612[a]1–1516[b]        Jules Bianchi[28]\n",
      "13  4421742       1–1612[a]1–1516[b]      Alexander Rossi[29]\n",
      "14     2022                   AllAll      Kevin Magnussen[33]\n",
      "15     2022                   AllAll        Jenson Button[34]\n",
      "16      644                   AllAll         Nico Rosberg[36]\n",
      "17      644                   AllAll       Lewis Hamilton[37]\n",
      "18       13                   AllAll     Sebastian Vettel[40]\n",
      "19       13                   AllAll     Daniel Ricciardo[41]\n",
      "20     2199                   AllAll    Esteban Gutiérrez[44]\n",
      "21     2199                   AllAll         Adrian Sutil[45]\n",
      "22     2526                   AllAll     Jean-Éric Vergne[47]\n",
      "23     2526                   AllAll         Daniil Kvyat[47]\n",
      "24     1977                   AllAll         Felipe Massa[51]\n",
      "25     1977                   AllAll      Valtteri Bottas[51]\n"
     ]
    }
   ],
   "source": [
    "# 2014 and 2017 data was formatted a bit differently in that the Rows has multiple lines of data that needs to be sepearated out.\n",
    "\n",
    "url = \"https://en.wikipedia.org/wiki/2014_Formula_One_season\"\n",
    "\n",
    "page = requests.get(url)\n",
    "soup  = BeautifulSoup(page.content, 'html.parser')\n",
    "table = soup.find_all('table')[0]\n",
    "\n",
    "driversdf = pd.read_html(str(table))\n",
    "driversdf = pd.concat(driversdf)\n",
    "driversdf.drop(driversdf.tail(1).index,inplace=True)\n",
    "\n",
    "# Remove other columns that were not relevant.\n",
    "\n",
    "driversdf = driversdf.drop(columns=['Entrant', 'Constructor', 'Chassis', 'Power unit', 'Unnamed: 7', 'Unnamed: 8', 'Unnamed: 9'])\n",
    "driversdf = driversdf.set_index(['No.', 'Rounds']).apply(lambda x: x.str.split(',').explode()).reset_index()\n",
    "\n",
    "new_df = pd.DataFrame([{'Year' : '2014','Deaths' : df_new['Year'].value_counts()[2014],'Competitors' : driversdf['Race drivers'].count()}])\n",
    "temp_df = pd.concat([temp_df, new_df], ignore_index=True)"
   ]
  },
  {
   "cell_type": "code",
   "execution_count": null,
   "metadata": {},
   "outputs": [
    {
     "data": {
      "text/plain": [
       "<matplotlib.axes._subplots.AxesSubplot at 0x7fde4107a3d0>"
      ]
     },
     "execution_count": 560,
     "metadata": {},
     "output_type": "execute_result"
    },
    {
     "data": {
      "image/png": "[encoded data removed]",
      "text/plain": [
       "<Figure size 432x288 with 1 Axes>"
      ]
     },
     "metadata": {
      "needs_background": "light"
     },
     "output_type": "display_data"
    }
   ],
   "source": [
    "# 2014 and 2017 data was formatted a bit differently in that the Rows has multiple lines of data that needs to be sepearated out.\n",
    "\n",
    "url = \"https://en.wikipedia.org/wiki/2017_Formula_One_season\"\n",
    "\n",
    "page = requests.get(url)\n",
    "soup  = BeautifulSoup(page.content, 'html.parser')\n",
    "table = soup.find_all('table')[0]\n",
    "\n",
    "driversdf = pd.read_html(str(table))\n",
    "driversdf = pd.concat(driversdf)\n",
    "driversdf = driversdf['Race drivers']\n",
    "\n",
    "driversdf.drop(driversdf.tail(1).index,inplace=True)\n",
    "driversdf = driversdf.set_index(['No.', 'Rounds']).apply(lambda x: x.str.split(',').explode()).reset_index()\n",
    "\n",
    "new_df = pd.DataFrame({'Year' : '2017','Deaths': df_new['Year'].value_counts()[2017],'Competitors' : [driversdf['Driver name'].count()]})\n",
    "temp_df = pd.concat([temp_df, new_df], ignore_index=True)\n",
    "temp_df.plot(x='Year')"
   ]
  },
  {
   "cell_type": "code",
   "execution_count": null,
   "metadata": {},
   "outputs": [
    {
     "data": {
      "image/png": "[encoded data removed]",
      "text/plain": [
       "<Figure size 432x288 with 2 Axes>"
      ]
     },
     "metadata": {
      "needs_background": "light"
     },
     "output_type": "display_data"
    }
   ],
   "source": [
    "#add dual axis for above figure\n",
    " \n",
    "fig, ax1 = plt.subplots()\n",
    "color = 'tab:red'\n",
    "ax1.set_xlabel('Year')\n",
    "ax1.set_ylabel('Competitors', color=color)\n",
    "ax1.plot(temp_df['Year'], temp_df['Competitors'], color=color)\n",
    "ax1.tick_params(axis='y', labelcolor=color)\n",
    "plt.xticks(rotation=60)\n",
    "\n",
    "# add second axis\n",
    "ax2 = ax1.twinx()\n",
    "color = 'tab:blue'\n",
    "ax2.set_ylabel('Deaths', color=color)\n",
    "ax2.plot(temp_df['Year'], temp_df['Deaths'], color=color)\n",
    "ax2.tick_params(axis='y', labelcolor=color)\n",
    "ax1.set_title(\"Number of Deaths vs Competitors\")\n",
    "\n",
    "plt.savefig('DeathsVsCompetitors.png')"
   ]
  }
 ],
 "metadata": {
  "kernelspec": {
   "display_name": "PythonData",
   "language": "python",
   "name": "python3"
  },
  "language_info": {
   "codemirror_mode": {
    "name": "ipython",
    "version": 3
   },
   "file_extension": ".py",
   "mimetype": "text/x-python",
   "name": "python",
   "nbconvert_exporter": "python",
   "pygments_lexer": "ipython3",
   "version": "3.7.7"
  },
  "orig_nbformat": 4,
  "vscode": {
   "interpreter": {
    "hash": "333633001cc15ad93928d314fcba92f66f0fda7321b77b96773266965763bb3c"
   }
  }
 },
 "nbformat": 4,
 "nbformat_minor": 2
}
