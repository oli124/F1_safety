{
 "cells": [
  {
   "cell_type": "code",
   "execution_count": null,
   "metadata": {},
   "outputs": [],
   "source": [
    "#Dependencies\n",
    "import pandas as pd\n",
    "import numpy as np\n",
    "import json\n",
    "import matplotlib.pyplot as plt\n",
    "import requests\n",
    "from bs4 import BeautifulSoup\n",
    "from matplotlib.dates import MonthLocator, DateFormatter, YearLocator, AutoDateLocator, YEARLY\n",
    "from matplotlib.ticker import LinearLocator"
   ]
  },
  {
   "cell_type": "code",
   "execution_count": null,
   "metadata": {},
   "outputs": [],
   "source": [
    "url = \"https://en.wikipedia.org/wiki/1955_Formula_One_season\"\n",
    "\n",
    "page = requests.get(url)\n",
    "soup  = BeautifulSoup(page.content, 'html.parser')\n",
    "table = soup.find_all('table')[1]\n",
    "\n",
    "driversdf = pd.read_html(str(table))\n",
    "driversdf = pd.concat(driversdf)\n",
    "\n",
    "temp_df = pd.DataFrame({'Year' : '1955','Deaths': df_new['Year'].value_counts()[1955],'Competitors' : [driversdf['Driver'].count()]})\n",
    "print(temp_df)"
   ]
  },
  {
   "cell_type": "code",
   "execution_count": null,
   "metadata": {},
   "outputs": [],
   "source": [
    "url = \"https://en.wikipedia.org/wiki/1958_Formula_One_season\"\n",
    "\n",
    "page = requests.get(url)\n",
    "soup  = BeautifulSoup(page.content, 'html.parser')\n",
    "table = soup.find_all('table')[2]\n",
    "\n",
    "driversdf = pd.read_html(str(table))\n",
    "driversdf = pd.concat(driversdf)\n",
    "\n",
    "new_df = pd.DataFrame([{'Year' : '1958','Deaths': df_new['Year'].value_counts()[1958],'Competitors' : driversdf['Driver'].count()}])\n",
    "temp_df = pd.concat([temp_df, new_df], ignore_index=True)\n",
    "print(temp_df)"
   ]
  },
  {
   "cell_type": "code",
   "execution_count": null,
   "metadata": {},
   "outputs": [],
   "source": [
    "url = \"https://en.wikipedia.org/wiki/1960_Formula_One_season\"\n",
    "\n",
    "page = requests.get(url)\n",
    "soup  = BeautifulSoup(page.content, 'html.parser')\n",
    "table = soup.find_all('table')[0]\n",
    "\n",
    "driversdf = pd.read_html(str(table))\n",
    "driversdf = pd.concat(driversdf)\n",
    "\n",
    "new_df = pd.DataFrame([{'Year' : '1960','Deaths': df_new['Year'].value_counts()[1960],'Competitors' : driversdf['Driver'].count()}])\n",
    "temp_df = pd.concat([temp_df, new_df], ignore_index=True)"
   ]
  },
  {
   "cell_type": "code",
   "execution_count": null,
   "metadata": {},
   "outputs": [],
   "source": [
    "url = \"https://en.wikipedia.org/wiki/1961_Formula_One_season\"\n",
    "\n",
    "page = requests.get(url)\n",
    "soup  = BeautifulSoup(page.content, 'html.parser')\n",
    "table = soup.find_all('table')[0]\n",
    "\n",
    "driversdf = pd.read_html(str(table))\n",
    "driversdf = pd.concat(driversdf)\n",
    "\n",
    "new_df = pd.DataFrame([{'Year' : '1961','Deaths': df_new['Year'].value_counts()[1961],'Competitors' : driversdf['Driver'].count()}])\n",
    "temp_df = pd.concat([temp_df, new_df], ignore_index=True)"
   ]
  },
  {
   "cell_type": "code",
   "execution_count": null,
   "metadata": {},
   "outputs": [],
   "source": [
    "url = \"https://en.wikipedia.org/wiki/1966_Formula_One_season\"\n",
    "\n",
    "page = requests.get(url)\n",
    "soup  = BeautifulSoup(page.content, 'html.parser')\n",
    "table = soup.find_all('table')[1]\n",
    "\n",
    "driversdf = pd.read_html(str(table))\n",
    "driversdf = pd.concat(driversdf)\n",
    "\n",
    "new_df = pd.DataFrame([{'Year' : '1966','Deaths': df_new['Year'].value_counts()[1966],'Competitors' : driversdf['Driver'].count()}])\n",
    "temp_df = pd.concat([temp_df, new_df], ignore_index=True)"
   ]
  },
  {
   "cell_type": "code",
   "execution_count": null,
   "metadata": {},
   "outputs": [],
   "source": [
    "url = \"https://en.wikipedia.org/wiki/1967_Formula_One_season\"\n",
    "\n",
    "page = requests.get(url)\n",
    "soup  = BeautifulSoup(page.content, 'html.parser')\n",
    "table = soup.find_all('table')[1]\n",
    "\n",
    "driversdf = pd.read_html(str(table))\n",
    "driversdf = pd.concat(driversdf)\n",
    "\n",
    "new_df = pd.DataFrame([{'Year' : '1967','Deaths': df_new['Year'].value_counts()[1967],'Competitors' : driversdf['Driver'].count()}])\n",
    "temp_df = pd.concat([temp_df, new_df], ignore_index=True)"
   ]
  },
  {
   "cell_type": "code",
   "execution_count": null,
   "metadata": {},
   "outputs": [],
   "source": [
    "url = \"https://en.wikipedia.org/wiki/1968_Formula_One_season\"\n",
    "\n",
    "page = requests.get(url)\n",
    "soup  = BeautifulSoup(page.content, 'html.parser')\n",
    "table = soup.find_all('table')[0]\n",
    "\n",
    "driversdf = pd.read_html(str(table))\n",
    "driversdf = pd.concat(driversdf)\n",
    "\n",
    "new_df = pd.DataFrame([{'Year' : '1968','Deaths': df_new['Year'].value_counts()[1968],'Competitors' : driversdf['Driver'].count()}])\n",
    "temp_df = pd.concat([temp_df, new_df], ignore_index=True)"
   ]
  },
  {
   "cell_type": "code",
   "execution_count": null,
   "metadata": {},
   "outputs": [],
   "source": [
    "url = \"https://en.wikipedia.org/wiki/1970_Formula_One_season\"\n",
    "\n",
    "page = requests.get(url)\n",
    "soup  = BeautifulSoup(page.content, 'html.parser')\n",
    "table = soup.find_all('table')[1]\n",
    "\n",
    "driversdf = pd.read_html(str(table))\n",
    "driversdf = pd.concat(driversdf)\n",
    "\n",
    "new_df = pd.DataFrame([{'Year' : '1970','Deaths': df_new['Year'].value_counts()[1970],'Competitors' : driversdf['Driver'].count()}])\n",
    "temp_df = pd.concat([temp_df, new_df], ignore_index=True)"
   ]
  },
  {
   "cell_type": "code",
   "execution_count": null,
   "metadata": {},
   "outputs": [],
   "source": [
    "url = \"https://en.wikipedia.org/wiki/1971_Formula_One_season\"\n",
    "\n",
    "page = requests.get(url)\n",
    "soup  = BeautifulSoup(page.content, 'html.parser')\n",
    "table = soup.find_all('table')[1]\n",
    "\n",
    "driversdf = pd.read_html(str(table))\n",
    "driversdf = pd.concat(driversdf)\n",
    "\n",
    "new_df = pd.DataFrame([{'Year' : '1971','Deaths': df_new['Year'].value_counts()[1971],'Competitors' : driversdf['Driver'].count()}])\n",
    "temp_df = pd.concat([temp_df, new_df], ignore_index=True)"
   ]
  },
  {
   "cell_type": "code",
   "execution_count": null,
   "metadata": {},
   "outputs": [],
   "source": [
    "url = \"https://en.wikipedia.org/wiki/1973_Formula_One_season\"\n",
    "\n",
    "page = requests.get(url)\n",
    "soup  = BeautifulSoup(page.content, 'html.parser')\n",
    "table = soup.find_all('table')[0]\n",
    "\n",
    "driversdf = pd.read_html(str(table))\n",
    "driversdf = pd.concat(driversdf)\n",
    "\n",
    "new_df = pd.DataFrame([{'Year' : '1973','Deaths': df_new['Year'].value_counts()[1973],'Competitors' : driversdf['Driver'].count()}])\n",
    "temp_df = pd.concat([temp_df, new_df], ignore_index=True)"
   ]
  },
  {
   "cell_type": "code",
   "execution_count": null,
   "metadata": {},
   "outputs": [],
   "source": [
    "url = \"https://en.wikipedia.org/wiki/1974_Formula_One_season\"\n",
    "\n",
    "page = requests.get(url)\n",
    "soup  = BeautifulSoup(page.content, 'html.parser')\n",
    "table = soup.find_all('table')[0]\n",
    "\n",
    "driversdf = pd.read_html(str(table))\n",
    "driversdf = pd.concat(driversdf)\n",
    "\n",
    "new_df = pd.DataFrame([{'Year' : '1974','Deaths': df_new['Year'].value_counts()[1974],'Competitors' : driversdf['Driver'].count()}])\n",
    "temp_df = pd.concat([temp_df, new_df], ignore_index=True)"
   ]
  },
  {
   "cell_type": "code",
   "execution_count": null,
   "metadata": {},
   "outputs": [],
   "source": [
    "url = \"https://en.wikipedia.org/wiki/1974_Formula_One_season\"\n",
    "\n",
    "page = requests.get(url)\n",
    "soup  = BeautifulSoup(page.content, 'html.parser')\n",
    "table = soup.find_all('table')[0]\n",
    "\n",
    "driversdf = pd.read_html(str(table))\n",
    "driversdf = pd.concat(driversdf)\n",
    "\n",
    "new_df = pd.DataFrame([{'Year' : '1974','Deaths': df_new['Year'].value_counts()[1974],'Competitors' : driversdf['Driver'].count()}])\n",
    "temp_df = pd.concat([temp_df, new_df], ignore_index=True)"
   ]
  },
  {
   "cell_type": "code",
   "execution_count": null,
   "metadata": {},
   "outputs": [],
   "source": [
    "url = \"https://en.wikipedia.org/wiki/1978_Formula_One_season\"\n",
    "\n",
    "page = requests.get(url)\n",
    "soup  = BeautifulSoup(page.content, 'html.parser')\n",
    "table = soup.find_all('table')[0]\n",
    "\n",
    "driversdf = pd.read_html(str(table))\n",
    "driversdf = pd.concat(driversdf)\n",
    "\n",
    "new_df = pd.DataFrame([{'Year' : '1978','Deaths': df_new['Year'].value_counts()[1978],'Competitors' : driversdf['Driver'].count()}])\n",
    "temp_df = pd.concat([temp_df, new_df], ignore_index=True)"
   ]
  },
  {
   "cell_type": "code",
   "execution_count": null,
   "metadata": {},
   "outputs": [],
   "source": [
    "url = \"https://en.wikipedia.org/wiki/1982_Formula_One_World_Championship\"\n",
    "\n",
    "page = requests.get(url)\n",
    "soup  = BeautifulSoup(page.content, 'html.parser')\n",
    "table = soup.find_all('table')[1]\n",
    "\n",
    "driversdf = pd.read_html(str(table))\n",
    "driversdf = pd.concat(driversdf)\n",
    "\n",
    "new_df = pd.DataFrame([{'Year' : '1982','Deaths': df_new['Year'].value_counts()[1982],'Competitors' : driversdf['Driver'].count()}])\n",
    "temp_df = pd.concat([temp_df, new_df], ignore_index=True)\n"
   ]
  },
  {
   "cell_type": "code",
   "execution_count": null,
   "metadata": {},
   "outputs": [],
   "source": [
    "\n",
    "url = \"https://en.wikipedia.org/wiki/1994_Formula_One_World_Championship\"\n",
    "\n",
    "page = requests.get(url)\n",
    "soup  = BeautifulSoup(page.content, 'html.parser')\n",
    "table = soup.find_all('table')[1]\n",
    "\n",
    "driversdf = pd.read_html(str(table))\n",
    "driversdf = pd.concat(driversdf)\n",
    "\n",
    "new_df = pd.DataFrame([{'Year' : '1982','Deaths': df_new['Year'].value_counts()[1982],'Competitors' : driversdf['Driver'].count()}])\n",
    "temp_df = pd.concat([temp_df, new_df], ignore_index=True)"
   ]
  },
  {
   "cell_type": "code",
   "execution_count": null,
   "metadata": {},
   "outputs": [],
   "source": [
    "url = \"https://en.wikipedia.org/wiki/2002_Formula_One_season\"\n",
    "\n",
    "page = requests.get(url)\n",
    "soup  = BeautifulSoup(page.content, 'html.parser')\n",
    "table = soup.find_all('table')[0]\n",
    "\n",
    "driversdf = pd.read_html(str(table))\n",
    "driversdf = pd.concat(driversdf)\n",
    "\n",
    "new_df = pd.DataFrame([{'Year' : '2002','Deaths': df_new['Year'].value_counts()[2002],'Competitors' : driversdf['Driver'].count()}])\n",
    "temp_df = pd.concat([temp_df, new_df], ignore_index=True)"
   ]
  },
  {
   "cell_type": "code",
   "execution_count": null,
   "metadata": {},
   "outputs": [],
   "source": [
    "# 2014 and 2017 data was formatted a bit differently in that the Rows has multiple lines of data that needs to be sepearated out.\n",
    "\n",
    "url = \"https://en.wikipedia.org/wiki/2014_Formula_One_season\"\n",
    "\n",
    "page = requests.get(url)\n",
    "soup  = BeautifulSoup(page.content, 'html.parser')\n",
    "table = soup.find_all('table')[0]\n",
    "\n",
    "driversdf = pd.read_html(str(table))\n",
    "driversdf = pd.concat(driversdf)\n",
    "driversdf.drop(driversdf.tail(1).index,inplace=True)\n",
    "\n",
    "# Remove other columns that were not relevant.\n",
    "\n",
    "driversdf = driversdf.drop(columns=['Entrant', 'Constructor', 'Chassis', 'Power unit', 'Unnamed: 7', 'Unnamed: 8', 'Unnamed: 9'])\n",
    "driversdf = driversdf.set_index(['No.', 'Rounds']).apply(lambda x: x.str.split(',').explode()).reset_index()\n",
    "\n",
    "new_df = pd.DataFrame([{'Year' : '2014','Deaths' : df_new['Year'].value_counts()[2014],'Competitors' : driversdf['Race drivers'].count()}])\n",
    "temp_df = pd.concat([temp_df, new_df], ignore_index=True)"
   ]
  },
  {
   "cell_type": "code",
   "execution_count": null,
   "metadata": {},
   "outputs": [],
   "source": [
    "# 2014 and 2017 data was formatted a bit differently in that the Rows has multiple lines of data that needs to be sepearated out.\n",
    "\n",
    "url = \"https://en.wikipedia.org/wiki/2017_Formula_One_season\"\n",
    "\n",
    "page = requests.get(url)\n",
    "soup  = BeautifulSoup(page.content, 'html.parser')\n",
    "table = soup.find_all('table')[0]\n",
    "\n",
    "driversdf = pd.read_html(str(table))\n",
    "driversdf = pd.concat(driversdf)\n",
    "driversdf = driversdf['Race drivers']\n",
    "\n",
    "driversdf.drop(driversdf.tail(1).index,inplace=True)\n",
    "driversdf = driversdf.set_index(['No.', 'Rounds']).apply(lambda x: x.str.split(',').explode()).reset_index()\n",
    "\n",
    "new_df = pd.DataFrame({'Year' : '2017','Deaths': df_new['Year'].value_counts()[2017],'Competitors' : [driversdf['Driver name'].count()]})\n",
    "temp_df = pd.concat([temp_df, new_df], ignore_index=True)\n",
    "temp_df.plot(x='Year')"
   ]
  }
 ],
 "metadata": {
  "kernelspec": {
   "display_name": "Python 3",
   "language": "python",
   "name": "python3"
  },
  "language_info": {
   "name": "python",
   "version": "3.10.7 (v3.10.7:6cc6b13308, Sep  5 2022, 14:02:52) [Clang 13.0.0 (clang-1300.0.29.30)]"
  },
  "orig_nbformat": 4,
  "vscode": {
   "interpreter": {
    "hash": "aee8b7b246df8f9039afb4144a1f6fd8d2ca17a180786b69acc140d282b71a49"
   }
  }
 },
 "nbformat": 4,
 "nbformat_minor": 2
}
